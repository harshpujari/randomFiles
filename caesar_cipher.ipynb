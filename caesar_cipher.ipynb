{
  "nbformat": 4,
  "nbformat_minor": 0,
  "metadata": {
    "colab": {
      "provenance": []
    },
    "kernelspec": {
      "name": "python3",
      "display_name": "Python 3"
    },
    "language_info": {
      "name": "python"
    }
  },
  "cells": [
    {
      "cell_type": "code",
      "execution_count": 3,
      "metadata": {
        "colab": {
          "base_uri": "https://localhost:8080/"
        },
        "id": "dwjmBcLtlrPf",
        "outputId": "2634d52e-0a01-4357-db78-d3e4f5b4a459"
      },
      "outputs": [
        {
          "output_type": "stream",
          "name": "stdout",
          "text": [
            "Type 'encode' to enctypt or 'decode' to decrypt : \n",
            "encode\n",
            "Type your message : \n",
            "Hello World\n",
            "Type your shift amount : \n",
            "27\n",
            "ifmmp xpsme\n",
            "Do you want to end the program ? T / Ft\n",
            "Thank you for using this program\n"
          ]
        }
      ],
      "source": [
        "alphabet = ['a', 'b', 'c', 'd', 'e', 'f', 'g', 'h', 'i', 'j', 'k', 'l', 'm', 'n', 'o', 'p', 'q', 'r', 's', 't', 'u', 'v', 'w', 'x', 'y', 'z']\n",
        "end = False\n",
        "\n",
        "def encrypt(plainText, shift, direction):\n",
        "  cipher = \"\"\n",
        "  shift_amount = shift%26\n",
        "  if direction == \"decode\":\n",
        "    shift_amount *= -1\n",
        "  for char in plainText:\n",
        "    if char in alphabet:\n",
        "      position = alphabet.index(char)\n",
        "      new_position = position + shift_amount\n",
        "      cipher += alphabet[new_position]\n",
        "    else:\n",
        "      cipher += char\n",
        "  return cipher\n",
        "\n",
        "while not end : \n",
        "  direction = input(\"Type 'encode' to enctypt or 'decode' to decrypt : \\n\")\n",
        "  text = input(\"Type your message : \\n\").lower()\n",
        "  shift = int(input(\"Type your shift amount : \\n\"))\n",
        "  if direction == 'encode' or direction == 'decode':\n",
        "    res = encrypt(text,shift,direction)\n",
        "    print(res)\n",
        "  else :\n",
        "    print(\"You can either encode or decode only\")\n",
        "  x = input(\"Do you want to end the program ? T / F\").lower()\n",
        "  if x =='t':\n",
        "    end = True\n",
        "    print(\"Thank you for using this program\")"
      ]
    }
  ]
}