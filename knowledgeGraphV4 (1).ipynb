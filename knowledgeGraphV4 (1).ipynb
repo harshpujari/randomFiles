{
  "nbformat": 4,
  "nbformat_minor": 0,
  "metadata": {
    "colab": {
      "provenance": []
    },
    "kernelspec": {
      "name": "python3",
      "display_name": "Python 3"
    },
    "language_info": {
      "name": "python"
    }
  },
  "cells": [
    {
      "cell_type": "code",
      "source": [
        "'''\n",
        "This insatallation is done w.r.t missing librarys of Google Colab.\n",
        "Differenct complier might need different installations.\n",
        "'''\n",
        "!pip install transformers \n",
        "!pip install pyvis\n",
        "!pip install nltk"
      ],
      "metadata": {
        "id": "UFNtO2CthkVt"
      },
      "execution_count": null,
      "outputs": []
    },
    {
      "cell_type": "code",
      "execution_count": null,
      "metadata": {
        "id": "s7Ow7zWn3OCK"
      },
      "outputs": [],
      "source": [
        "#importing libraries\n",
        "from transformers import AutoModelForSeq2SeqLM, AutoTokenizer\n",
        "import math\n",
        "import torch\n",
        "import IPython\n",
        "from pyvis.network import Network\n",
        "import pandas as pd\n",
        "import networkx as nx\n",
        "import matplotlib.pyplot as plt\n",
        "from nltk.corpus import stopwords\n",
        "from nltk.tokenize import word_tokenize"
      ]
    },
    {
      "cell_type": "code",
      "source": [
        "# Load model and tokenizer\n",
        "tokenizer = AutoTokenizer.from_pretrained(\"Babelscape/rebel-large\")\n",
        "model = AutoModelForSeq2SeqLM.from_pretrained(\"Babelscape/rebel-large\")"
      ],
      "metadata": {
        "id": "_zY-88yg3bY9"
      },
      "execution_count": null,
      "outputs": []
    },
    {
      "cell_type": "code",
      "source": [
        "def extractRelationsFromModelOutput(txt):\n",
        "    relations = []\n",
        "    relation, subject, relation, obj = '', '', '', ''\n",
        "    txt = txt.strip()\n",
        "    current = 'x'\n",
        "    txtReplaced = txt.replace(\"<s>\", \"\").replace(\"<pad>\", \"\").replace(\"</s>\", \"\")\n",
        "    for token in txtReplaced.split():\n",
        "        if token == \"<triplet>\":\n",
        "            current = 't'\n",
        "            if relation != '':\n",
        "                relations.append({\n",
        "                    'head': subject.strip(),\n",
        "                    'type': relation.strip(),\n",
        "                    'tail': obj.strip()\n",
        "                })\n",
        "                relation = ''\n",
        "            subject = ''\n",
        "        elif token == \"<subj>\":\n",
        "            current = 's'\n",
        "            if relation != '':\n",
        "                relations.append({\n",
        "                    'head': subject.strip(),\n",
        "                    'type': relation.strip(),\n",
        "                    'tail': obj.strip()\n",
        "                })\n",
        "            obj = ''\n",
        "        elif token == \"<obj>\":\n",
        "            current = 'o'\n",
        "            relation = ''\n",
        "        else:\n",
        "            if current == 't':\n",
        "                subject += ' ' + token\n",
        "            elif current == 's':\n",
        "                obj += ' ' + token\n",
        "            elif current == 'o':\n",
        "                relation += ' ' + token\n",
        "    if subject != '' and relation != '' and obj != '':\n",
        "        relations.append({\n",
        "            'head': subject.strip(),\n",
        "            'type': relation.strip(),\n",
        "            'tail': obj.strip()\n",
        "        })\n",
        "    return relations"
      ],
      "metadata": {
        "id": "iiazxVh53qs5"
      },
      "execution_count": null,
      "outputs": []
    },
    {
      "cell_type": "code",
      "source": [
        "class KB():\n",
        "    def __init__(self):\n",
        "        self.relations = []\n",
        "\n",
        "    def areRelationsEqual(self, r1, r2):\n",
        "        return all(r1[attr] == r2[attr] for attr in [\"head\", \"type\", \"tail\"])\n",
        "\n",
        "    def existsRelation(self, r1):\n",
        "        return any(self.areRelationsEqual(r1, r2) for r2 in self.relations)\n",
        "\n",
        "    def mergeRelations(self, r1):\n",
        "        r2 = [r for r in self.relations\n",
        "              if self.areRelationsEqual(r1, r)][0]\n",
        "        spansToAdd = [span for span in r1[\"meta\"][\"spans\"]\n",
        "                        if span not in r2[\"meta\"][\"spans\"]]\n",
        "        r2[\"meta\"][\"spans\"] += spansToAdd\n",
        "\n",
        "    def add_relation(self, r):\n",
        "        if not self.existsRelation(r):\n",
        "            self.relations.append(r)\n",
        "        else:\n",
        "            self.mergeRelations(r)\n",
        "\n",
        "    def print(self):\n",
        "      return self.relations"
      ],
      "metadata": {
        "id": "jadhqLzZbjcQ"
      },
      "execution_count": null,
      "outputs": []
    },
    {
      "cell_type": "code",
      "source": [
        "def textToKB(text, span_length=128, verbose=False):\n",
        "    # tokenize whole text\n",
        "    inputs = tokenizer([text], return_tensors=\"pt\")\n",
        "\n",
        "    # compute span boundaries\n",
        "    num_tokens = len(inputs[\"input_ids\"][0])\n",
        "    if verbose:\n",
        "        print(f\"Input has {num_tokens} tokens\")\n",
        "    num_spans = math.ceil(num_tokens / span_length)\n",
        "    if verbose:\n",
        "        print(f\"Input has {num_spans} spans\")\n",
        "    overlap = math.ceil((num_spans * span_length - num_tokens) / \n",
        "                        max(num_spans - 1, 1))\n",
        "    spans_boundaries = []\n",
        "    start = 0\n",
        "    for i in range(num_spans):\n",
        "        spans_boundaries.append([start + span_length * i,\n",
        "                                 start + span_length * (i + 1)])\n",
        "        start -= overlap\n",
        "    if verbose:\n",
        "        print(f\"Span boundaries are {spans_boundaries}\")\n",
        "\n",
        "    # transform input with spans\n",
        "    tensor_ids = [inputs[\"input_ids\"][0][boundary[0]:boundary[1]]\n",
        "                  for boundary in spans_boundaries]\n",
        "    tensor_masks = [inputs[\"attention_mask\"][0][boundary[0]:boundary[1]]\n",
        "                    for boundary in spans_boundaries]\n",
        "    inputs = {\n",
        "        \"input_ids\": torch.stack(tensor_ids),\n",
        "        \"attention_mask\": torch.stack(tensor_masks)\n",
        "    }\n",
        "\n",
        "    # generate relations\n",
        "    num_return_sequences = 3\n",
        "    gen_kwargs = {\n",
        "        \"max_length\": 256,\n",
        "        \"length_penalty\": 0,\n",
        "        \"num_beams\": 3,\n",
        "        \"num_return_sequences\": num_return_sequences\n",
        "    }\n",
        "    generated_tokens = model.generate(\n",
        "        **inputs,\n",
        "        **gen_kwargs,\n",
        "    )\n",
        "\n",
        "    # decode relations\n",
        "    decoded_preds = tokenizer.batch_decode(generated_tokens,\n",
        "                                           skip_special_tokens=False)\n",
        "\n",
        "    # create kb\n",
        "    kb = KB()\n",
        "    i = 0\n",
        "    for sentence_pred in decoded_preds:\n",
        "        current_span_index = i // num_return_sequences\n",
        "        relations = extractRelationsFromModelOutput(sentence_pred)\n",
        "        for relation in relations:\n",
        "            relation[\"meta\"] = {\n",
        "                \"spans\": [spans_boundaries[current_span_index]]\n",
        "            }\n",
        "            kb.add_relation(relation)\n",
        "        i += 1\n",
        "\n",
        "    return kb"
      ],
      "metadata": {
        "id": "G4NC_yvybplx"
      },
      "execution_count": null,
      "outputs": []
    },
    {
      "cell_type": "code",
      "source": [
        "def featureAssignment(x):\n",
        "  # extract subject\n",
        "  head = [i['head'] for i in x]\n",
        "  # extract object\n",
        "  tail = [i['tail'] for i in x]\n",
        "  #extract relations\n",
        "  edge = [i['type'] for i in x]\n",
        "\n",
        "  df = pd.DataFrame({'head':head, 'tail':tail, 'edge':edge})\n",
        "  return df"
      ],
      "metadata": {
        "id": "OWeHE_4pCRtd"
      },
      "execution_count": null,
      "outputs": []
    },
    {
      "cell_type": "code",
      "source": [
        "def plottingGraph(df):\n",
        "  # create a directed-graph from a dataframe\n",
        "  G=nx.from_pandas_edgelist(df, \"head\", \"tail\",\n",
        "                            edge_attr=True, create_using=nx.MultiDiGraph())\n",
        "  plt.figure(figsize=(12,12))\n",
        "  pos = nx.spring_layout(G)\n",
        "  m = { (df.iloc[i,0],df.iloc[i,1]):df.iloc[i,2] for i in range(len(df)) }\n",
        "  nx.draw(G, with_labels=True, node_color='green', edge_cmap=plt.cm.Blues, pos = pos)\n",
        "  nx.draw_networkx_edge_labels(G,pos, edge_labels=m)\n",
        "  return plt"
      ],
      "metadata": {
        "id": "xUFdnGgCwQgd"
      },
      "execution_count": null,
      "outputs": []
    },
    {
      "cell_type": "code",
      "source": [
        "def letters(input):\n",
        "    valids = []\n",
        "    input = input.split()\n",
        "    for i in input:\n",
        "      l =[]\n",
        "      for j in i:\n",
        "        if j.isalpha():\n",
        "          l.append(j)\n",
        "      l = \"\".join(i for i in l)\n",
        "      valids.append(l)\n",
        "    return valids"
      ],
      "metadata": {
        "id": "TaxTYOMuO5Zp"
      },
      "execution_count": null,
      "outputs": []
    },
    {
      "cell_type": "code",
      "source": [
        "def predLst(df):\n",
        "  l =[]\n",
        "  for i in df['head']:\n",
        "    l.append(i)\n",
        "  for i in df['tail']:\n",
        "    l.append(i)\n",
        "  for i in df['edge']:\n",
        "    l.append(i)\n",
        "  l = set(l)\n",
        "  return(l)"
      ],
      "metadata": {
        "id": "sB4pH4aQWZhw"
      },
      "execution_count": null,
      "outputs": []
    },
    {
      "cell_type": "code",
      "source": [
        "def score(pred,true):\n",
        "  m = set()\n",
        "  for i in pred :\n",
        "    for j in true :\n",
        "      if i.lower() == j.lower():\n",
        "        m.add(i)\n",
        "  return len(m)"
      ],
      "metadata": {
        "id": "qfWiFoawKA9o"
      },
      "execution_count": null,
      "outputs": []
    },
    {
      "cell_type": "code",
      "source": [
        "''' beta version , not in use \n",
        "def stopWords(s):\n",
        "  import nltk\n",
        "  nltk.download('stopwords')\n",
        "  nltk.download('punkt')\n",
        "  stop_words = set(stopwords.words('english'))\n",
        "  word_tokens = word_tokenize(s)   \n",
        "  filtered_sentence = [w for w in word_tokens if not w.lower() in stop_words]    \n",
        "  filtered_sentence = []   \n",
        "  for w in word_tokens:\n",
        "      if w not in stop_words:\n",
        "          filtered_sentence.append(w)\n",
        "  return(filtered_sentence)\n",
        "  '''"
      ],
      "metadata": {
        "colab": {
          "base_uri": "https://localhost:8080/",
          "height": 71
        },
        "id": "djvln-sU-g64",
        "outputId": "4d4ae43b-313d-49fd-cd6c-2c2891f57145"
      },
      "execution_count": null,
      "outputs": [
        {
          "output_type": "execute_result",
          "data": {
            "text/plain": [
              "\" beta version , not in use \\ndef stopWords(s):\\n  import nltk\\n  nltk.download('stopwords')\\n  nltk.download('punkt')\\n  stop_words = set(stopwords.words('english'))\\n  word_tokens = word_tokenize(s)   \\n  filtered_sentence = [w for w in word_tokens if not w.lower() in stop_words]    \\n  filtered_sentence = []   \\n  for w in word_tokens:\\n      if w not in stop_words:\\n          filtered_sentence.append(w)\\n  return(filtered_sentence)\\n  \""
            ],
            "application/vnd.google.colaboratory.intrinsic+json": {
              "type": "string"
            }
          },
          "metadata": {},
          "execution_count": 25
        }
      ]
    },
    {
      "cell_type": "code",
      "source": [
        "text = input('Enter your text: ')\n",
        "kb = textToKB(text, verbose=True)\n",
        "x = kb.print()\n",
        "print(x)\n",
        "df = featureAssignment(x)\n",
        "plot = plottingGraph(df)\n",
        "plot.show()"
      ],
      "metadata": {
        "colab": {
          "base_uri": "https://localhost:8080/",
          "height": 1000
        },
        "id": "xuql7IIPbuvP",
        "outputId": "edaedaff-baa3-4b9c-dac1-d020de4cc47c"
      },
      "execution_count": null,
      "outputs": [
        {
          "output_type": "stream",
          "name": "stdout",
          "text": [
            "Enter your text: 22-year-old college football player clipped on left side during play. Exam Exam revealed a grossly swollen and contused left knee associated with medial joint line tenderness, pain with valgus stress, and a positive Lachman test. Findings Anterior-posterior radiograph of the left knee reveals a 5mm elliptical ossific fragment adjacent and distal to the lateral tibial cortex and plateau, respectively, consistent with a Segond fracture. The lateral radiograph shows increased density in the region of the suprapatellar bursa consistent with a knee effusion. Proton-density with fat saturation sagittal oblique MR image of the left knee shows a complete tear of the anterior cruciate ligament (ACL) at its proximal attachment and increased signal intensity in the normal location of the ligament consistent with post-traumatic change. The fibers that lie parallel with the tibial plateau are consistent with the torn ACL. High-signal-intensity bone contusions are present in the mid-lateral femoral condyle and posterolateral tibial plateau. T2-weighted with fat sat coronal MR image shows both the ossific fragment adjacent and distal to the lateral tibial plateau and the and the femoral bone contusion. Both menisci, the collateral ligaments, and the posterior cruciate ligament were intact on other images not shown. Differential Diagnosis ACL Tear Segond Fracture\n",
            "Input has 306 tokens\n",
            "Input has 3 spans\n",
            "Span boundaries are [[0, 128], [89, 217], [178, 306]]\n",
            "[{'head': 'suprapatellar bursa', 'type': 'subclass of', 'tail': 'ossific', 'meta': {'spans': [[0, 128]]}}, {'head': 'suprapatellar bursa', 'type': 'part of', 'tail': 'lateral tibial cortex', 'meta': {'spans': [[0, 128]]}}, {'head': 'suprapatellar bursa', 'type': 'connects with', 'tail': 'tibial cortex', 'meta': {'spans': [[0, 128]]}}, {'head': 'tibial cortex', 'type': 'connects with', 'tail': 'suprapatellar bursa', 'meta': {'spans': [[0, 128]]}}, {'head': 'suprapatellar bursa', 'type': 'connects with', 'tail': 'anterior cruciate ligament', 'meta': {'spans': [[89, 217]]}}, {'head': 'anterior cruciate ligament', 'type': 'connects with', 'tail': 'suprapatellar bursa', 'meta': {'spans': [[89, 217]]}}, {'head': 'anterior cruciate ligament', 'type': 'instance of', 'tail': 'ligament', 'meta': {'spans': [[89, 217]]}}, {'head': 'femoral', 'type': 'connects with', 'tail': 'tibial plateau', 'meta': {'spans': [[89, 217]]}}, {'head': 'tibial plateau', 'type': 'connects with', 'tail': 'femoral', 'meta': {'spans': [[89, 217]]}}, {'head': 'anterior cruciate ligament', 'type': 'connects with', 'tail': 'menisci', 'meta': {'spans': [[178, 306]]}}, {'head': 'posterior cruciate ligament', 'type': 'connects with', 'tail': 'menisci', 'meta': {'spans': [[178, 306]]}}, {'head': 'femoral condyle', 'type': 'connects with', 'tail': 'tibial plateau', 'meta': {'spans': [[178, 306]]}}]\n"
          ]
        },
        {
          "output_type": "display_data",
          "data": {
            "text/plain": [
              "<Figure size 864x864 with 1 Axes>"
            ],
            "image/png": "[encoded data removed]"
          },
          "metadata": {}
        }
      ]
    },
    {
      "cell_type": "code",
      "source": [
        "true = input('Enter actual output :')\n",
        "true = letters(true)\n",
        "pred = predLst(df)\n",
        "pred = \" \".join(pred)\n",
        "pred = letters(pred)\n",
        "lenTrue = len(true)\n",
        "lenPred = len(pred)\n",
        "match = score(pred,true)\n",
        "print('There were',lenTrue,' words in required output out of which',match,'words were found in predicted output')\n"
      ],
      "metadata": {
        "colab": {
          "base_uri": "https://localhost:8080/"
        },
        "id": "05FoBAvcKkLC",
        "outputId": "1705e914-cd61-4c51-c886-d63870b61f4a"
      },
      "execution_count": null,
      "outputs": [
        {
          "output_type": "stream",
          "name": "stdout",
          "text": [
            "Enter actual output :ACL tear with associated Segond Fracture and Kissing Contusions\n",
            "There were 9  words in required output out of which 1 words were found in predicted output\n"
          ]
        }
      ]
    }
  ]
}