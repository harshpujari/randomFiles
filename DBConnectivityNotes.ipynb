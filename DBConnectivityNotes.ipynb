{
  "nbformat": 4,
  "nbformat_minor": 0,
  "metadata": {
    "colab": {
      "provenance": []
    },
    "kernelspec": {
      "name": "python3",
      "display_name": "Python 3"
    },
    "language_info": {
      "name": "python"
    }
  },
  "cells": [
    {
      "cell_type": "code",
      "execution_count": null,
      "metadata": {
        "id": "cgHdvYqxfZZg"
      },
      "outputs": [],
      "source": [
        "#Creating sample tables \n",
        "import sqlite3\n",
        "#Establishing a DB connection \n",
        "connection = sqllite3.connect('{sourceLocation}')\n",
        "#Creating cursour object \n",
        "coursour = connection.cursour()\n",
        "#Writing SQL \n",
        "sql1 = '{Statement}'"
      ]
    },
    {
      "cell_type": "code",
      "source": [
        "#Creating a sample table \n",
        "sql1 = '''\n",
        "      CREATE TABLE EMPLOYEE(\n",
        "      EMPID INT(6) NOT NULL,\n",
        "      NAME CHAR(20) NOT NULL,\n",
        "      AGE CHAR,\n",
        "      )\n",
        "'''\n",
        "#Execution of SQL\n",
        "cousour.execute(sql1)\n",
        "#Closing connection \n",
        "connectionl.close()"
      ],
      "metadata": {
        "id": "VFjYVHjxgDUg"
      },
      "execution_count": null,
      "outputs": []
    },
    {
      "cell_type": "code",
      "source": [
        "#Inserting Sample data \n",
        "#Establish connection\n",
        "#Create a cursour object \n",
        "\n",
        "#Something new here \n",
        "data = (123,'Name',12,'M',123)\n",
        "sql = '''\n",
        "  insert into employee values (x,x,x,x,x)\n",
        "  '''\n",
        "try :\n",
        "  cursour.execute(sql,data)\n",
        "  connection.commit()\n",
        "except Exception as e :\n",
        "  print('Error occured :',str(e))\n",
        "  connection.rollback()\n",
        "\n",
        "#close connection now "
      ],
      "metadata": {
        "id": "4RmjimF_h1eZ"
      },
      "execution_count": null,
      "outputs": []
    },
    {
      "cell_type": "code",
      "source": [
        "#fetching data \n",
        "sql = 'select * from employees where age > 60'\n",
        "try :\n",
        "  cousour.execute(sql)\n",
        "except exception as e :\n",
        "  print('something went wrong')"
      ],
      "metadata": {
        "id": "WYGt-8Ipm4TS"
      },
      "execution_count": null,
      "outputs": []
    }
  ]
}